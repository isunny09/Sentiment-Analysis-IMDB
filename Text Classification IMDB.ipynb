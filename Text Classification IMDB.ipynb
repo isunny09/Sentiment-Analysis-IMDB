{
 "cells": [
  {
   "cell_type": "markdown",
   "id": "14486adb",
   "metadata": {},
   "source": [
    "Project Title: Sentiment Analysis of IMDB Movie Review Dataset\n",
    "\n",
    "The main aim of the project is to analyze the moview review data set to understand the sentiemnt or emotion expressed in the review and build a classification model that can accurately classify the sentiment of a given text into predefined category such as positive or negative. \n",
    "Sentiment analysis can be used in solving various business problems such as Sentiment CLassification, Understanding the customer feedback, Monitoring social media, Research market trends, Financial, Political and Social analysis and so on.\n",
    "\n",
    "The main tasks to be performed in this project are:\n",
    "1. Analyze the data to understand what the data represents and how it can be transformed according to the end goals of the project.\n",
    "2. Preprocessing the data by removing irrelevant and special characters using a combination of Regex and NLTK.\n",
    "3. Tokenization of the text, Removal of stop words and lemmatization to reduce the words to their base forms.\n",
    "4. Using TF-IDF to convert the tokenized text into numerical features that the machine learning model can understand.\n",
    "5. Model selection, Training and Evaluation.\n",
    "6. Model deployment.\n",
    "    "
   ]
  },
  {
   "cell_type": "code",
   "execution_count": 1,
   "id": "7f9c18d0",
   "metadata": {},
   "outputs": [
    {
     "name": "stderr",
     "output_type": "stream",
     "text": [
      "C:\\Users\\isunn\\AppData\\Local\\Programs\\Python\\Python39\\lib\\site-packages\\scipy\\__init__.py:146: UserWarning: A NumPy version >=1.16.5 and <1.23.0 is required for this version of SciPy (detected version 1.26.0\n",
      "  warnings.warn(f\"A NumPy version >={np_minversion} and <{np_maxversion}\"\n"
     ]
    }
   ],
   "source": [
    "#Importing necessary libraries\n",
    "import pandas as pd\n",
    "import string\n",
    "import seaborn as sns\n",
    "import plotly as plt\n",
    "import nltk\n",
    "from nltk.corpus import stopwords\n",
    "from nltk import word_tokenize\n",
    "from collections import Counter\n",
    "import warnings\n",
    "warnings.filterwarnings(\"ignore\")"
   ]
  },
  {
   "cell_type": "raw",
   "id": "28392a1c",
   "metadata": {},
   "source": [
    "Initial review of the dataset to understand the data."
   ]
  },
  {
   "cell_type": "code",
   "execution_count": 2,
   "id": "64180d02",
   "metadata": {},
   "outputs": [],
   "source": [
    "df = pd.read_csv(\"IMDB Dataset.csv\")"
   ]
  },
  {
   "cell_type": "code",
   "execution_count": 3,
   "id": "7936599d",
   "metadata": {},
   "outputs": [
    {
     "name": "stdout",
     "output_type": "stream",
     "text": [
      "Total number of elements in the dataframe: 100000\n"
     ]
    }
   ],
   "source": [
    "print(f\"Total number of elements in the dataframe: {df.size}\")"
   ]
  },
  {
   "cell_type": "code",
   "execution_count": 4,
   "id": "6aea1181",
   "metadata": {},
   "outputs": [
    {
     "name": "stdout",
     "output_type": "stream",
     "text": [
      "The shape of the dataframe: (50000, 2)\n"
     ]
    }
   ],
   "source": [
    "print(f\"The shape of the dataframe: {df.shape}\")"
   ]
  },
  {
   "cell_type": "code",
   "execution_count": 5,
   "id": "3fff0954",
   "metadata": {},
   "outputs": [
    {
     "name": "stdout",
     "output_type": "stream",
     "text": [
      "<class 'pandas.core.frame.DataFrame'>\n",
      "RangeIndex: 50000 entries, 0 to 49999\n",
      "Data columns (total 2 columns):\n",
      " #   Column     Non-Null Count  Dtype \n",
      "---  ------     --------------  ----- \n",
      " 0   review     50000 non-null  object\n",
      " 1   sentiment  50000 non-null  object\n",
      "dtypes: object(2)\n",
      "memory usage: 781.4+ KB\n"
     ]
    }
   ],
   "source": [
    "df.info()"
   ]
  },
  {
   "cell_type": "code",
   "execution_count": 6,
   "id": "a18f7b03",
   "metadata": {},
   "outputs": [
    {
     "data": {
      "text/plain": [
       "review       0\n",
       "sentiment    0\n",
       "dtype: int64"
      ]
     },
     "execution_count": 6,
     "metadata": {},
     "output_type": "execute_result"
    }
   ],
   "source": [
    "df.isna().sum()"
   ]
  },
  {
   "cell_type": "code",
   "execution_count": 7,
   "id": "a7c3f80a",
   "metadata": {},
   "outputs": [
    {
     "data": {
      "text/plain": [
       "positive    25000\n",
       "negative    25000\n",
       "Name: sentiment, dtype: int64"
      ]
     },
     "execution_count": 7,
     "metadata": {},
     "output_type": "execute_result"
    }
   ],
   "source": [
    "df[\"sentiment\"].value_counts()"
   ]
  },
  {
   "cell_type": "code",
   "execution_count": 8,
   "id": "0e61c82a",
   "metadata": {},
   "outputs": [
    {
     "data": {
      "text/html": [
       "<div>\n",
       "<style scoped>\n",
       "    .dataframe tbody tr th:only-of-type {\n",
       "        vertical-align: middle;\n",
       "    }\n",
       "\n",
       "    .dataframe tbody tr th {\n",
       "        vertical-align: top;\n",
       "    }\n",
       "\n",
       "    .dataframe thead th {\n",
       "        text-align: right;\n",
       "    }\n",
       "</style>\n",
       "<table border=\"1\" class=\"dataframe\">\n",
       "  <thead>\n",
       "    <tr style=\"text-align: right;\">\n",
       "      <th></th>\n",
       "      <th>review</th>\n",
       "      <th>sentiment</th>\n",
       "    </tr>\n",
       "  </thead>\n",
       "  <tbody>\n",
       "    <tr>\n",
       "      <th>17606</th>\n",
       "      <td>Anyone who has said that it's better than Host...</td>\n",
       "      <td>negative</td>\n",
       "    </tr>\n",
       "    <tr>\n",
       "      <th>26427</th>\n",
       "      <td>I saw this film at the 3rd Adelaide Internatio...</td>\n",
       "      <td>positive</td>\n",
       "    </tr>\n",
       "    <tr>\n",
       "      <th>47633</th>\n",
       "      <td>Although Kurt Russell was and is probably the ...</td>\n",
       "      <td>positive</td>\n",
       "    </tr>\n",
       "    <tr>\n",
       "      <th>34234</th>\n",
       "      <td>When it comes to the erotic genre, I'm lucky t...</td>\n",
       "      <td>positive</td>\n",
       "    </tr>\n",
       "    <tr>\n",
       "      <th>44919</th>\n",
       "      <td>This movie was so poorly acted. What was with ...</td>\n",
       "      <td>negative</td>\n",
       "    </tr>\n",
       "    <tr>\n",
       "      <th>25838</th>\n",
       "      <td>Tarzan and Jane are living happily in the jung...</td>\n",
       "      <td>positive</td>\n",
       "    </tr>\n",
       "    <tr>\n",
       "      <th>8025</th>\n",
       "      <td>Who won the best actress Oscar for 1933? It sh...</td>\n",
       "      <td>positive</td>\n",
       "    </tr>\n",
       "    <tr>\n",
       "      <th>31891</th>\n",
       "      <td>After watching Awake,I led to a conclusion:dir...</td>\n",
       "      <td>negative</td>\n",
       "    </tr>\n",
       "    <tr>\n",
       "      <th>24572</th>\n",
       "      <td>Are we really making 'video nasties' again? In...</td>\n",
       "      <td>positive</td>\n",
       "    </tr>\n",
       "    <tr>\n",
       "      <th>46661</th>\n",
       "      <td>Blazing saddles! It's a fight between two estr...</td>\n",
       "      <td>negative</td>\n",
       "    </tr>\n",
       "    <tr>\n",
       "      <th>46965</th>\n",
       "      <td>Spoiler Alert - although this is a plot almost...</td>\n",
       "      <td>positive</td>\n",
       "    </tr>\n",
       "    <tr>\n",
       "      <th>25634</th>\n",
       "      <td>My first attempt at watching this ended in 8 m...</td>\n",
       "      <td>negative</td>\n",
       "    </tr>\n",
       "    <tr>\n",
       "      <th>34337</th>\n",
       "      <td>This was the second entry in the regular Colum...</td>\n",
       "      <td>positive</td>\n",
       "    </tr>\n",
       "    <tr>\n",
       "      <th>18408</th>\n",
       "      <td>Fellow Giallo-fanatics: beware and/or proceed ...</td>\n",
       "      <td>negative</td>\n",
       "    </tr>\n",
       "    <tr>\n",
       "      <th>11978</th>\n",
       "      <td>When a stiff turns up with pneumonic plague (a...</td>\n",
       "      <td>positive</td>\n",
       "    </tr>\n",
       "    <tr>\n",
       "      <th>32756</th>\n",
       "      <td>The dead spots and picture-postcard superficia...</td>\n",
       "      <td>positive</td>\n",
       "    </tr>\n",
       "    <tr>\n",
       "      <th>13456</th>\n",
       "      <td>Riding Giants is an amazing movie. It really s...</td>\n",
       "      <td>positive</td>\n",
       "    </tr>\n",
       "    <tr>\n",
       "      <th>21060</th>\n",
       "      <td>This piece of Crap is actually the BOMB, as in...</td>\n",
       "      <td>negative</td>\n",
       "    </tr>\n",
       "    <tr>\n",
       "      <th>40806</th>\n",
       "      <td>There was a great film to be made about Steve ...</td>\n",
       "      <td>negative</td>\n",
       "    </tr>\n",
       "    <tr>\n",
       "      <th>45605</th>\n",
       "      <td>Iron Eagle may not be the most believable film...</td>\n",
       "      <td>positive</td>\n",
       "    </tr>\n",
       "    <tr>\n",
       "      <th>47695</th>\n",
       "      <td>Once you sit down to see this film \" A Cannon ...</td>\n",
       "      <td>positive</td>\n",
       "    </tr>\n",
       "    <tr>\n",
       "      <th>36947</th>\n",
       "      <td>I saw this movie and was bored out of my mind!...</td>\n",
       "      <td>negative</td>\n",
       "    </tr>\n",
       "    <tr>\n",
       "      <th>27691</th>\n",
       "      <td>This film is without a doubt the worst action ...</td>\n",
       "      <td>negative</td>\n",
       "    </tr>\n",
       "    <tr>\n",
       "      <th>7506</th>\n",
       "      <td>I never attended the midnight showing of a mov...</td>\n",
       "      <td>positive</td>\n",
       "    </tr>\n",
       "    <tr>\n",
       "      <th>29804</th>\n",
       "      <td>I sat through both parts of Che last night, ba...</td>\n",
       "      <td>positive</td>\n",
       "    </tr>\n",
       "    <tr>\n",
       "      <th>23508</th>\n",
       "      <td>I can remember reading that Darwin had a pivot...</td>\n",
       "      <td>negative</td>\n",
       "    </tr>\n",
       "    <tr>\n",
       "      <th>32635</th>\n",
       "      <td>The Intruder (L'Intrus), a film directed by Fr...</td>\n",
       "      <td>positive</td>\n",
       "    </tr>\n",
       "    <tr>\n",
       "      <th>18556</th>\n",
       "      <td>\"Dominion\" is a good movie,but not original.It...</td>\n",
       "      <td>positive</td>\n",
       "    </tr>\n",
       "    <tr>\n",
       "      <th>11819</th>\n",
       "      <td>Let's set one thing straight: this movie does ...</td>\n",
       "      <td>positive</td>\n",
       "    </tr>\n",
       "    <tr>\n",
       "      <th>16233</th>\n",
       "      <td>I have a high tolerance for the weird, but fra...</td>\n",
       "      <td>negative</td>\n",
       "    </tr>\n",
       "    <tr>\n",
       "      <th>49960</th>\n",
       "      <td>John Carpenter's career is over if this sad ex...</td>\n",
       "      <td>negative</td>\n",
       "    </tr>\n",
       "    <tr>\n",
       "      <th>24851</th>\n",
       "      <td>And the worst part is that it could have been ...</td>\n",
       "      <td>negative</td>\n",
       "    </tr>\n",
       "    <tr>\n",
       "      <th>24473</th>\n",
       "      <td>This film tells the story of a romance between...</td>\n",
       "      <td>positive</td>\n",
       "    </tr>\n",
       "    <tr>\n",
       "      <th>8032</th>\n",
       "      <td>the scarlet coat is about bendict arnold betra...</td>\n",
       "      <td>positive</td>\n",
       "    </tr>\n",
       "    <tr>\n",
       "      <th>28914</th>\n",
       "      <td>This is a story of a Jewish dysfunctional fami...</td>\n",
       "      <td>negative</td>\n",
       "    </tr>\n",
       "    <tr>\n",
       "      <th>31110</th>\n",
       "      <td>I am not a fan of Sean Penn, but in contrast t...</td>\n",
       "      <td>positive</td>\n",
       "    </tr>\n",
       "    <tr>\n",
       "      <th>48884</th>\n",
       "      <td>If regarded as an independent feature I can't ...</td>\n",
       "      <td>negative</td>\n",
       "    </tr>\n",
       "    <tr>\n",
       "      <th>7759</th>\n",
       "      <td>I saw this film at the Rotterdam Festival, as ...</td>\n",
       "      <td>negative</td>\n",
       "    </tr>\n",
       "    <tr>\n",
       "      <th>32670</th>\n",
       "      <td>Extraordinary Rendition is a frightening pract...</td>\n",
       "      <td>positive</td>\n",
       "    </tr>\n",
       "    <tr>\n",
       "      <th>7584</th>\n",
       "      <td>We watched this on \"The Wonderful World of Dis...</td>\n",
       "      <td>positive</td>\n",
       "    </tr>\n",
       "    <tr>\n",
       "      <th>33989</th>\n",
       "      <td>The Man with the Golden Arm was one of the fir...</td>\n",
       "      <td>positive</td>\n",
       "    </tr>\n",
       "    <tr>\n",
       "      <th>18889</th>\n",
       "      <td>I watched this episode a lot of times because ...</td>\n",
       "      <td>positive</td>\n",
       "    </tr>\n",
       "    <tr>\n",
       "      <th>17617</th>\n",
       "      <td>The film begins with a little girl (Rita) seei...</td>\n",
       "      <td>negative</td>\n",
       "    </tr>\n",
       "    <tr>\n",
       "      <th>30112</th>\n",
       "      <td>The chupacabra, according to this mockumentary...</td>\n",
       "      <td>negative</td>\n",
       "    </tr>\n",
       "    <tr>\n",
       "      <th>17887</th>\n",
       "      <td>I don't know what it is I find so endearing ab...</td>\n",
       "      <td>positive</td>\n",
       "    </tr>\n",
       "    <tr>\n",
       "      <th>2651</th>\n",
       "      <td>I seriously enjoy Dr Who.&lt;br /&gt;&lt;br /&gt;Seriously...</td>\n",
       "      <td>positive</td>\n",
       "    </tr>\n",
       "    <tr>\n",
       "      <th>41480</th>\n",
       "      <td>this movie had a lot of blood in it when the s...</td>\n",
       "      <td>negative</td>\n",
       "    </tr>\n",
       "    <tr>\n",
       "      <th>37180</th>\n",
       "      <td>Renee Zellweger is Betty, a Kansas waitress wh...</td>\n",
       "      <td>positive</td>\n",
       "    </tr>\n",
       "    <tr>\n",
       "      <th>41134</th>\n",
       "      <td>Many people judge it as a fan service film bec...</td>\n",
       "      <td>positive</td>\n",
       "    </tr>\n",
       "    <tr>\n",
       "      <th>13295</th>\n",
       "      <td>It took me a while to find this movie since th...</td>\n",
       "      <td>positive</td>\n",
       "    </tr>\n",
       "  </tbody>\n",
       "</table>\n",
       "</div>"
      ],
      "text/plain": [
       "                                                  review sentiment\n",
       "17606  Anyone who has said that it's better than Host...  negative\n",
       "26427  I saw this film at the 3rd Adelaide Internatio...  positive\n",
       "47633  Although Kurt Russell was and is probably the ...  positive\n",
       "34234  When it comes to the erotic genre, I'm lucky t...  positive\n",
       "44919  This movie was so poorly acted. What was with ...  negative\n",
       "25838  Tarzan and Jane are living happily in the jung...  positive\n",
       "8025   Who won the best actress Oscar for 1933? It sh...  positive\n",
       "31891  After watching Awake,I led to a conclusion:dir...  negative\n",
       "24572  Are we really making 'video nasties' again? In...  positive\n",
       "46661  Blazing saddles! It's a fight between two estr...  negative\n",
       "46965  Spoiler Alert - although this is a plot almost...  positive\n",
       "25634  My first attempt at watching this ended in 8 m...  negative\n",
       "34337  This was the second entry in the regular Colum...  positive\n",
       "18408  Fellow Giallo-fanatics: beware and/or proceed ...  negative\n",
       "11978  When a stiff turns up with pneumonic plague (a...  positive\n",
       "32756  The dead spots and picture-postcard superficia...  positive\n",
       "13456  Riding Giants is an amazing movie. It really s...  positive\n",
       "21060  This piece of Crap is actually the BOMB, as in...  negative\n",
       "40806  There was a great film to be made about Steve ...  negative\n",
       "45605  Iron Eagle may not be the most believable film...  positive\n",
       "47695  Once you sit down to see this film \" A Cannon ...  positive\n",
       "36947  I saw this movie and was bored out of my mind!...  negative\n",
       "27691  This film is without a doubt the worst action ...  negative\n",
       "7506   I never attended the midnight showing of a mov...  positive\n",
       "29804  I sat through both parts of Che last night, ba...  positive\n",
       "23508  I can remember reading that Darwin had a pivot...  negative\n",
       "32635  The Intruder (L'Intrus), a film directed by Fr...  positive\n",
       "18556  \"Dominion\" is a good movie,but not original.It...  positive\n",
       "11819  Let's set one thing straight: this movie does ...  positive\n",
       "16233  I have a high tolerance for the weird, but fra...  negative\n",
       "49960  John Carpenter's career is over if this sad ex...  negative\n",
       "24851  And the worst part is that it could have been ...  negative\n",
       "24473  This film tells the story of a romance between...  positive\n",
       "8032   the scarlet coat is about bendict arnold betra...  positive\n",
       "28914  This is a story of a Jewish dysfunctional fami...  negative\n",
       "31110  I am not a fan of Sean Penn, but in contrast t...  positive\n",
       "48884  If regarded as an independent feature I can't ...  negative\n",
       "7759   I saw this film at the Rotterdam Festival, as ...  negative\n",
       "32670  Extraordinary Rendition is a frightening pract...  positive\n",
       "7584   We watched this on \"The Wonderful World of Dis...  positive\n",
       "33989  The Man with the Golden Arm was one of the fir...  positive\n",
       "18889  I watched this episode a lot of times because ...  positive\n",
       "17617  The film begins with a little girl (Rita) seei...  negative\n",
       "30112  The chupacabra, according to this mockumentary...  negative\n",
       "17887  I don't know what it is I find so endearing ab...  positive\n",
       "2651   I seriously enjoy Dr Who.<br /><br />Seriously...  positive\n",
       "41480  this movie had a lot of blood in it when the s...  negative\n",
       "37180  Renee Zellweger is Betty, a Kansas waitress wh...  positive\n",
       "41134  Many people judge it as a fan service film bec...  positive\n",
       "13295  It took me a while to find this movie since th...  positive"
      ]
     },
     "execution_count": 8,
     "metadata": {},
     "output_type": "execute_result"
    }
   ],
   "source": [
    "df.sample(50)"
   ]
  },
  {
   "cell_type": "markdown",
   "id": "9c726068",
   "metadata": {},
   "source": [
    "The intitial analysis of the data reveals the following details:\n",
    "\n",
    "1. The data consists of 50k movie reviews and their respective sentiment.\n",
    "2. The data is quite balanced with 25k sentiments for each of the sentiments.\n",
    "3. There is no missing data in the data set.\n",
    "4. The data contains some noise which needs to be cleaned. \n",
    "\n",
    "Overall, the data looks good enough for further analysis."
   ]
  },
  {
   "cell_type": "markdown",
   "id": "5827d400",
   "metadata": {},
   "source": [
    "Cleaning and Structuring of the data."
   ]
  },
  {
   "cell_type": "code",
   "execution_count": 9,
   "id": "fc3e8299",
   "metadata": {},
   "outputs": [],
   "source": [
    "#converting the sentiments and reviews to lower case\n",
    "df[\"sentiment\"] = df[\"sentiment\"].str.lower()"
   ]
  },
  {
   "cell_type": "code",
   "execution_count": 10,
   "id": "0af1b12c",
   "metadata": {},
   "outputs": [],
   "source": [
    "df[\"review\"] = df[\"review\"].apply(lambda x: x.lower())"
   ]
  },
  {
   "cell_type": "code",
   "execution_count": 11,
   "id": "ddef1894",
   "metadata": {},
   "outputs": [
    {
     "data": {
      "text/plain": [
       "3777     i went to see this movie with my 17 y.o. daugh...\n",
       "40187    don't bother. a little prosciutto could go a l...\n",
       "19032    the story itself is routine: a boy runs away f...\n",
       "23249    i am sligthly biased because i appear in this ...\n",
       "27323    i cannot comprehend how this picture was allow...\n",
       "39697    fully deserving its prestigious hollywood awar...\n",
       "27827    i saw this film at the ny gay & lesbian film f...\n",
       "46147    donald sutherland, an american paleontologist ...\n",
       "24571    being s club seven, the film already boosts an...\n",
       "38116    carson daly has to be the only late night talk...\n",
       "23020    i originally caught this back in 1996 in its o...\n",
       "23722    this was a fantastic episode. i saw a clip fro...\n",
       "7488     i put this second version of \"the man who knew...\n",
       "6403     **spoilers** with the title of the film having...\n",
       "7287     nice way to relax. i am packing my suitcase no...\n",
       "35134    your average garden variety psychotic nutcase ...\n",
       "1163     well, where do i start...<br /><br />as one of...\n",
       "5273     i believe sarafina is a tremendous effort of w...\n",
       "22347    i rented this on dvd yesterday and did not rea...\n",
       "33429    anyone not aware of the 1973 original british ...\n",
       "26428    my god, what's going on? a uwe boll film and p...\n",
       "25815    les visiteurs, the first movie about the medie...\n",
       "37638    critics love this movie. i personally found it...\n",
       "34842    the ascent is a very worthwhile addition to re...\n",
       "35753    a friend and i went through a phase some (alot...\n",
       "41082    this may have been made for the hell of it, bu...\n",
       "39542    this really is a cringe making exercise. dress...\n",
       "36264    les convoyeurs attendent was the first film i ...\n",
       "29586    i saw this in the theater and i instantly thou...\n",
       "18168    obviously, this is not the \"piranha\" directed ...\n",
       "4913     i just watched the convent for the second time...\n",
       "29263    being a fan of the series i thought, how bad c...\n",
       "35686    richard farnsworth is one of my favorite actor...\n",
       "30666    its a truly awful movie with a laughable story...\n",
       "1871     as a premise, this backwoods version of the de...\n",
       "35261    this might not have been as horribly bad as it...\n",
       "10509    up to this point, gentle rain was the movie i ...\n",
       "16470    as an inspiring director myself, this movie wa...\n",
       "29319    why is it that virtual \"x-rated video game\" wo...\n",
       "43913    playmania is extremely boring. this is the bas...\n",
       "31265    jim mckay has made one of the best films you w...\n",
       "22737    this movie is easily the worst of the series. ...\n",
       "34338    how can you take her hard-living, glamorously ...\n",
       "8978     \"raw force\" is like an ultra-sleazy and perver...\n",
       "9654     i have seen over 2000 studio-era sound films--...\n",
       "5207     the blend of biography with poetry and live ac...\n",
       "26882    i went to see this film because it was recomme...\n",
       "37103    the movie opens with beautiful landscape shots...\n",
       "32126    my qualifications for this review? i own all t...\n",
       "40143    while the original first blood had its far-fet...\n",
       "Name: review, dtype: object"
      ]
     },
     "execution_count": 11,
     "metadata": {},
     "output_type": "execute_result"
    }
   ],
   "source": [
    "#checking a sample of the data to make sure the text is converted into lower case\n",
    "df[\"review\"].sample(50)"
   ]
  },
  {
   "cell_type": "code",
   "execution_count": 12,
   "id": "84a007da",
   "metadata": {},
   "outputs": [],
   "source": [
    "#using regex to remove all charachters that are not alphabets\n",
    "import re\n",
    "pattern = r'[^a-zA-Z0-9\\s]'\n",
    "df[\"review\"] = df[\"review\"].apply(lambda x: re.sub(pattern, \"\", x))"
   ]
  },
  {
   "cell_type": "code",
   "execution_count": 13,
   "id": "9d152a78",
   "metadata": {},
   "outputs": [],
   "source": [
    "#removing all  punctuation using regex\n",
    "punctuation_pattern = r'[^\\w\\s]'\n",
    "df[\"review\"] = df[\"review\"].apply(lambda x: re.sub(punctuation_pattern, \"\",x))"
   ]
  },
  {
   "cell_type": "code",
   "execution_count": 14,
   "id": "e713cffb",
   "metadata": {},
   "outputs": [],
   "source": [
    "#removing numbers and html tags\n",
    "number_pattern =  r'\\d+'\n",
    "df[\"review\"] = df[\"review\"].apply(lambda x: re.sub(number_pattern, \"\", x))"
   ]
  },
  {
   "cell_type": "code",
   "execution_count": 15,
   "id": "282de3f7",
   "metadata": {},
   "outputs": [],
   "source": [
    "#remove html tags\n",
    "html_pattern = r'<[^>]+>'\n",
    "df[\"review\"] = df[\"review\"].apply(lambda x: re.sub(html_pattern, \"\",x))"
   ]
  },
  {
   "cell_type": "code",
   "execution_count": 16,
   "id": "2e3646c7",
   "metadata": {},
   "outputs": [
    {
     "data": {
      "text/plain": [
       "14113    is it a coincidence that orca was made two yea...\n",
       "45284    sunday would not be sunday without an action m...\n",
       "34590    an elite american military team which of cours...\n",
       "47408    to say this film is simply a demonisation of c...\n",
       "22276    devil hunter gained notoriety for the fact tha...\n",
       "43972    film is designed to affect the audience and th...\n",
       "7024     star rating  the works  just misses the mark  ...\n",
       "9091     this film is really only bill mahers interpret...\n",
       "17603    the kissing bandit was the third and final fil...\n",
       "18812    if archie bunker was armed he may well have be...\n",
       "14525    this movie was not only disappointing to the h...\n",
       "834      i do regret that i have bought this series i e...\n",
       "26866    i like the show but comeon writers get some ac...\n",
       "49850    this show is painful to watch br br it is obvi...\n",
       "16872    oh my god what the hell happened here im not g...\n",
       "40888    unwatchable you cant even make it past the fir...\n",
       "2727     honestly i was expecting to hate this one and ...\n",
       "46512    this movie is terrible its about some no brain...\n",
       "2584     hellborn starts as a young psychiatric doctor ...\n",
       "48462    ok i admit im one of those nerds who have spen...\n",
       "Name: review, dtype: object"
      ]
     },
     "execution_count": 16,
     "metadata": {},
     "output_type": "execute_result"
    }
   ],
   "source": [
    "df[\"review\"].sample(20)"
   ]
  },
  {
   "cell_type": "code",
   "execution_count": 17,
   "id": "fdfedd00",
   "metadata": {},
   "outputs": [
    {
     "name": "stderr",
     "output_type": "stream",
     "text": [
      "[nltk_data] Downloading package stopwords to\n",
      "[nltk_data]     C:\\Users\\isunn\\AppData\\Roaming\\nltk_data...\n",
      "[nltk_data]   Package stopwords is already up-to-date!\n"
     ]
    },
    {
     "data": {
      "text/plain": [
       "True"
      ]
     },
     "execution_count": 17,
     "metadata": {},
     "output_type": "execute_result"
    }
   ],
   "source": [
    "#removing stopwords using nltk\n",
    "nltk.download(\"stopwords\")"
   ]
  },
  {
   "cell_type": "code",
   "execution_count": 18,
   "id": "26f51f19",
   "metadata": {},
   "outputs": [],
   "source": [
    "def remove_stopwords(text):\n",
    "    stop_words = set(stopwords.words(\"english\"))\n",
    "    words = text.split()\n",
    "    filtered_words = [word for word in words if word.lower() not in stop_words]\n",
    "    return \" \".join(filtered_words)"
   ]
  },
  {
   "cell_type": "code",
   "execution_count": 19,
   "id": "fe1a7f74",
   "metadata": {},
   "outputs": [],
   "source": [
    "df[\"review\"] = df[\"review\"].apply(remove_stopwords)"
   ]
  },
  {
   "cell_type": "code",
   "execution_count": 20,
   "id": "77305bf5",
   "metadata": {},
   "outputs": [
    {
     "data": {
      "text/plain": [
       "6915     huge amy adams fan many years also big fan mus...\n",
       "2861     china syndrome could released better time twel...\n",
       "28001    movie made years end civil warmost likely anti...\n",
       "40052    much love ellen barkin really underrated boo m...\n",
       "43494    cuba gooding jr secret service agent blames as...\n",
       "23752    anthony wong plays loka husband whose wife ser...\n",
       "26650    shame see interesting story diluted standard v...\n",
       "7437     summary line mens wet dream ideal woman seriou...\n",
       "19349    feel movie amazing adam sandlers performance i...\n",
       "18105    childless couple brooke adams jeff hayenga go ...\n",
       "9504     well odds exact right moment redneck amateursc...\n",
       "28817    lucky enough attend screening stockholm elegan...\n",
       "36118    pier paolo pasolini peepeepee prefer call due ...\n",
       "99       mario fan long remember fond memories playing ...\n",
       "27866    paperhouse thrillerhorror sick bed fever year ...\n",
       "30713    true geekgirls dream high tech high drama smar...\n",
       "42202    director probably still early learning stages ...\n",
       "17227    scandinavians pretty good making laugh drab no...\n",
       "24063    find first minutes film slow wonder youre watc...\n",
       "48220    evil aliens owes huge debt peter jacksons earl...\n",
       "35036    style reminiscent best david lean romantic lov...\n",
       "11991    dont like italian horror wont like film notebr...\n",
       "48389    certainly worst movie ever saw beginning somew...\n",
       "15396    mom begins night middle nowhere looks like woo...\n",
       "45434    grown westerns considering present dearth west...\n",
       "3126     group hunters track werewolf kill decapitate s...\n",
       "19451    many many years gaijin visited japan learning ...\n",
       "34936    masterpiece footage bw mm film film makes see ...\n",
       "26889    horrible people ought subtitle horrible film w...\n",
       "37647    movies origins mystery know much imdb rented a...\n",
       "10435    thought sliver offered boring trivial trick en...\n",
       "47343    cant quite explain find alluring leopard may f...\n",
       "2178     love drivein cheeze early love onehow could go...\n",
       "12139    first say im huge lucio fulci dario argento fa...\n",
       "34204    film fantastic explores storytelling fantasy w...\n",
       "25544    americas next top model great reality show eve...\n",
       "10928    lot people saying al pacino acted mean common ...\n",
       "42463    alright want go see movie give money illbr br ...\n",
       "23114    generally like sion sonos work movie completel...\n",
       "35138    get past slow start bad acting worth watching ...\n",
       "46015    select cartoon films animals something human p...\n",
       "31766    first killjoy heres review killjoy br br conta...\n",
       "41813    iran women prohibited attending live sporting ...\n",
       "7784     film apparently spawned idea one writers saw o...\n",
       "14917    found first bit stop motion animation intrigui...\n",
       "29809    energetic well played show saw back friends st...\n",
       "44611    acting good action good plot like good fast en...\n",
       "26265    registered imdb solely purpose warning others ...\n",
       "46672    feel strongly film like waiting exhale white f...\n",
       "33313    kind somewhat high expectations movie ive alwa...\n",
       "Name: review, dtype: object"
      ]
     },
     "execution_count": 20,
     "metadata": {},
     "output_type": "execute_result"
    }
   ],
   "source": [
    "df[\"review\"].sample(50)"
   ]
  },
  {
   "cell_type": "code",
   "execution_count": 21,
   "id": "624b0897",
   "metadata": {},
   "outputs": [],
   "source": [
    "#df2 = df.copy()"
   ]
  },
  {
   "cell_type": "code",
   "execution_count": 22,
   "id": "7b79ef82",
   "metadata": {},
   "outputs": [],
   "source": [
    "#tokenizing the text \n",
    "df[\"review\"] = df[\"review\"].apply(word_tokenize)"
   ]
  },
  {
   "cell_type": "code",
   "execution_count": 23,
   "id": "87ba2e86",
   "metadata": {},
   "outputs": [
    {
     "data": {
      "text/plain": [
       "0    [one, reviewers, mentioned, watching, oz, epis...\n",
       "1    [wonderful, little, production, br, br, filmin...\n",
       "2    [thought, wonderful, way, spend, time, hot, su...\n",
       "3    [basically, theres, family, little, boy, jake,...\n",
       "4    [petter, matteis, love, time, money, visually,...\n",
       "Name: review, dtype: object"
      ]
     },
     "execution_count": 23,
     "metadata": {},
     "output_type": "execute_result"
    }
   ],
   "source": [
    "df[\"review\"].head()"
   ]
  },
  {
   "cell_type": "code",
   "execution_count": 24,
   "id": "91ee9798",
   "metadata": {},
   "outputs": [],
   "source": [
    "#function to count most freq and least freq words\n",
    "def word_counter(df, column_name,most_common_count=20,least_common_count=20):\n",
    "    all_words = [word for sublist in df[column_name] for word in sublist]\n",
    "    word_frequency = Counter(all_words)\n",
    "    most_common_words = word_frequency.most_common(most_common_count)\n",
    "    least_common_words = word_frequency.most_common()[-least_common_count:][::-1]\n",
    "    return most_common_words,least_common_words"
   ]
  },
  {
   "cell_type": "code",
   "execution_count": 25,
   "id": "b0b2acd7",
   "metadata": {},
   "outputs": [],
   "source": [
    "most_common,least_common = word_counter(df, \"review\")\n"
   ]
  },
  {
   "cell_type": "code",
   "execution_count": 26,
   "id": "838084ee",
   "metadata": {},
   "outputs": [
    {
     "name": "stdout",
     "output_type": "stream",
     "text": [
      "The 20 most common words are: [('br', 114890), ('movie', 83523), ('film', 74459), ('one', 51028), ('like', 38992), ('good', 28570), ('even', 24576), ('would', 24024), ('time', 23269), ('really', 22951), ('see', 22535), ('story', 22097), ('much', 18947), ('well', 18798), ('get', 18205), ('great', 17821), ('also', 17818), ('bad', 17719), ('people', 17538), ('first', 17155)]\n"
     ]
    }
   ],
   "source": [
    "print(f\"The 20 most common words are: {most_common}\")\n"
   ]
  },
  {
   "cell_type": "code",
   "execution_count": 27,
   "id": "60eb81b1",
   "metadata": {},
   "outputs": [
    {
     "name": "stdout",
     "output_type": "stream",
     "text": [
      "The 20 least common words are: [('yosemitebr', 1), ('studentsthe', 1), ('horriblecatwoman', 1), ('clatter', 1), ('frenchonly', 1), ('philandererbr', 1), ('effortful', 1), ('ohsohard', 1), ('ashknenazi', 1), ('jossi', 1), ('wasamwill', 1), ('emiles', 1), ('burtolucci', 1), ('censorial', 1), ('angelyne', 1), ('nolin', 1), ('subjectivebut', 1), ('satireis', 1), ('dkman', 1), ('mottos', 1)]\n"
     ]
    }
   ],
   "source": [
    "print(f\"The 20 least common words are: {least_common}\")"
   ]
  },
  {
   "cell_type": "code",
   "execution_count": 28,
   "id": "3c337ed7",
   "metadata": {},
   "outputs": [],
   "source": [
    "from nltk.stem import WordNetLemmatizer"
   ]
  },
  {
   "cell_type": "code",
   "execution_count": 29,
   "id": "a43d7eb3",
   "metadata": {},
   "outputs": [],
   "source": [
    "lemmatizer = WordNetLemmatizer()"
   ]
  },
  {
   "cell_type": "code",
   "execution_count": 30,
   "id": "e541417c",
   "metadata": {},
   "outputs": [],
   "source": [
    "def lemmatize_tokens(tokens):\n",
    "    lemmatized_tokens = [lemmatizer.lemmatize(token) for token in tokens]\n",
    "    return lemmatized_tokens"
   ]
  },
  {
   "cell_type": "code",
   "execution_count": 31,
   "id": "81d03cdd",
   "metadata": {},
   "outputs": [],
   "source": [
    "df[\"review\"] = df[\"review\"].apply(lemmatize_tokens)"
   ]
  },
  {
   "cell_type": "code",
   "execution_count": 32,
   "id": "c38fee87",
   "metadata": {},
   "outputs": [
    {
     "data": {
      "text/plain": [
       "0    [one, reviewer, mentioned, watching, oz, episo...\n",
       "1    [wonderful, little, production, br, br, filmin...\n",
       "2    [thought, wonderful, way, spend, time, hot, su...\n",
       "3    [basically, there, family, little, boy, jake, ...\n",
       "4    [petter, matteis, love, time, money, visually,...\n",
       "Name: review, dtype: object"
      ]
     },
     "execution_count": 32,
     "metadata": {},
     "output_type": "execute_result"
    }
   ],
   "source": [
    "df[\"review\"].head()"
   ]
  },
  {
   "cell_type": "code",
   "execution_count": 33,
   "id": "6985aceb",
   "metadata": {},
   "outputs": [],
   "source": [
    "#removing all occurences of word \"br\"\n",
    "def remove_br(tokens):\n",
    "    return [token for token in tokens if token!= \"br\"]"
   ]
  },
  {
   "cell_type": "code",
   "execution_count": 34,
   "id": "497dff31",
   "metadata": {},
   "outputs": [],
   "source": [
    "df[\"review\"] = df[\"review\"].apply(remove_br)"
   ]
  },
  {
   "cell_type": "code",
   "execution_count": 35,
   "id": "24d2197e",
   "metadata": {},
   "outputs": [
    {
     "data": {
      "text/plain": [
       "0    [one, reviewer, mentioned, watching, oz, episo...\n",
       "1    [wonderful, little, production, filming, techn...\n",
       "2    [thought, wonderful, way, spend, time, hot, su...\n",
       "3    [basically, there, family, little, boy, jake, ...\n",
       "4    [petter, matteis, love, time, money, visually,...\n",
       "Name: review, dtype: object"
      ]
     },
     "execution_count": 35,
     "metadata": {},
     "output_type": "execute_result"
    }
   ],
   "source": [
    "df[\"review\"].head()"
   ]
  },
  {
   "cell_type": "code",
   "execution_count": 36,
   "id": "071b5582",
   "metadata": {},
   "outputs": [
    {
     "data": {
      "text/html": [
       "<div>\n",
       "<style scoped>\n",
       "    .dataframe tbody tr th:only-of-type {\n",
       "        vertical-align: middle;\n",
       "    }\n",
       "\n",
       "    .dataframe tbody tr th {\n",
       "        vertical-align: top;\n",
       "    }\n",
       "\n",
       "    .dataframe thead th {\n",
       "        text-align: right;\n",
       "    }\n",
       "</style>\n",
       "<table border=\"1\" class=\"dataframe\">\n",
       "  <thead>\n",
       "    <tr style=\"text-align: right;\">\n",
       "      <th></th>\n",
       "      <th>review</th>\n",
       "      <th>sentiment</th>\n",
       "    </tr>\n",
       "  </thead>\n",
       "  <tbody>\n",
       "    <tr>\n",
       "      <th>0</th>\n",
       "      <td>[one, reviewer, mentioned, watching, oz, episo...</td>\n",
       "      <td>positive</td>\n",
       "    </tr>\n",
       "    <tr>\n",
       "      <th>1</th>\n",
       "      <td>[wonderful, little, production, filming, techn...</td>\n",
       "      <td>positive</td>\n",
       "    </tr>\n",
       "    <tr>\n",
       "      <th>2</th>\n",
       "      <td>[thought, wonderful, way, spend, time, hot, su...</td>\n",
       "      <td>positive</td>\n",
       "    </tr>\n",
       "    <tr>\n",
       "      <th>3</th>\n",
       "      <td>[basically, there, family, little, boy, jake, ...</td>\n",
       "      <td>negative</td>\n",
       "    </tr>\n",
       "    <tr>\n",
       "      <th>4</th>\n",
       "      <td>[petter, matteis, love, time, money, visually,...</td>\n",
       "      <td>positive</td>\n",
       "    </tr>\n",
       "  </tbody>\n",
       "</table>\n",
       "</div>"
      ],
      "text/plain": [
       "                                              review sentiment\n",
       "0  [one, reviewer, mentioned, watching, oz, episo...  positive\n",
       "1  [wonderful, little, production, filming, techn...  positive\n",
       "2  [thought, wonderful, way, spend, time, hot, su...  positive\n",
       "3  [basically, there, family, little, boy, jake, ...  negative\n",
       "4  [petter, matteis, love, time, money, visually,...  positive"
      ]
     },
     "execution_count": 36,
     "metadata": {},
     "output_type": "execute_result"
    }
   ],
   "source": [
    "df.head()"
   ]
  },
  {
   "cell_type": "code",
   "execution_count": 37,
   "id": "56204362",
   "metadata": {},
   "outputs": [
    {
     "data": {
      "text/plain": [
       "0    [one, reviewer, mentioned, watching, oz, episo...\n",
       "1    [wonderful, little, production, filming, techn...\n",
       "2    [thought, wonderful, way, spend, time, hot, su...\n",
       "3    [basically, there, family, little, boy, jake, ...\n",
       "4    [petter, matteis, love, time, money, visually,...\n",
       "Name: review, dtype: object"
      ]
     },
     "execution_count": 37,
     "metadata": {},
     "output_type": "execute_result"
    }
   ],
   "source": [
    "df[\"review\"].head()"
   ]
  },
  {
   "cell_type": "code",
   "execution_count": 38,
   "id": "db81bd91",
   "metadata": {},
   "outputs": [],
   "source": [
    "df['review'] = df['review'].apply(lambda word_list: ' '.join(word_list))"
   ]
  },
  {
   "cell_type": "code",
   "execution_count": 39,
   "id": "7a3cfa43",
   "metadata": {},
   "outputs": [
    {
     "data": {
      "text/html": [
       "<div>\n",
       "<style scoped>\n",
       "    .dataframe tbody tr th:only-of-type {\n",
       "        vertical-align: middle;\n",
       "    }\n",
       "\n",
       "    .dataframe tbody tr th {\n",
       "        vertical-align: top;\n",
       "    }\n",
       "\n",
       "    .dataframe thead th {\n",
       "        text-align: right;\n",
       "    }\n",
       "</style>\n",
       "<table border=\"1\" class=\"dataframe\">\n",
       "  <thead>\n",
       "    <tr style=\"text-align: right;\">\n",
       "      <th></th>\n",
       "      <th>review</th>\n",
       "      <th>sentiment</th>\n",
       "    </tr>\n",
       "  </thead>\n",
       "  <tbody>\n",
       "    <tr>\n",
       "      <th>0</th>\n",
       "      <td>one reviewer mentioned watching oz episode you...</td>\n",
       "      <td>positive</td>\n",
       "    </tr>\n",
       "    <tr>\n",
       "      <th>1</th>\n",
       "      <td>wonderful little production filming technique ...</td>\n",
       "      <td>positive</td>\n",
       "    </tr>\n",
       "    <tr>\n",
       "      <th>2</th>\n",
       "      <td>thought wonderful way spend time hot summer we...</td>\n",
       "      <td>positive</td>\n",
       "    </tr>\n",
       "    <tr>\n",
       "      <th>3</th>\n",
       "      <td>basically there family little boy jake think t...</td>\n",
       "      <td>negative</td>\n",
       "    </tr>\n",
       "    <tr>\n",
       "      <th>4</th>\n",
       "      <td>petter matteis love time money visually stunni...</td>\n",
       "      <td>positive</td>\n",
       "    </tr>\n",
       "  </tbody>\n",
       "</table>\n",
       "</div>"
      ],
      "text/plain": [
       "                                              review sentiment\n",
       "0  one reviewer mentioned watching oz episode you...  positive\n",
       "1  wonderful little production filming technique ...  positive\n",
       "2  thought wonderful way spend time hot summer we...  positive\n",
       "3  basically there family little boy jake think t...  negative\n",
       "4  petter matteis love time money visually stunni...  positive"
      ]
     },
     "execution_count": 39,
     "metadata": {},
     "output_type": "execute_result"
    }
   ],
   "source": [
    "df.head()"
   ]
  },
  {
   "cell_type": "markdown",
   "id": "4e3bc345",
   "metadata": {},
   "source": [
    "The data is now preprocessed and ready to be fed into the machine learning model. The initial model is a naive bayes model."
   ]
  },
  {
   "cell_type": "code",
   "execution_count": null,
   "id": "e77c4dd9",
   "metadata": {},
   "outputs": [],
   "source": [
    "import pandas as pd\n",
    "from sklearn.model_selection import train_test_split\n",
    "from sklearn.feature_extraction.text import TfidfVectorizer\n",
    "from sklearn.naive_bayes import MultinomialNB\n",
    "from sklearn.metrics import accuracy_score, classification_report"
   ]
  },
  {
   "cell_type": "code",
   "execution_count": null,
   "id": "1d6320df",
   "metadata": {},
   "outputs": [],
   "source": [
    "# Splitting the dataset into training and testing sets\n",
    "X_train, X_test, y_train, y_test = train_test_split(df['review'], df['sentiment'], test_size=0.2, random_state=42)\n",
    "\n",
    "# Creating a TF-IDF vectorizer\n",
    "tfidf_vectorizer = TfidfVectorizer()\n",
    "\n",
    "# Creating the TF-IDF representation of the training data\n",
    "X_train_tfidf = tfidf_vectorizer.fit_transform(X_train)\n",
    "\n",
    "# Creating the TF-IDF representation of the testing data \n",
    "X_test_tfidf = tfidf_vectorizer.transform(X_test)\n"
   ]
  },
  {
   "cell_type": "code",
   "execution_count": null,
   "id": "8e11c351",
   "metadata": {},
   "outputs": [],
   "source": [
    "# Training the  Naive Bayes classifier model on the vectorized training data\n",
    "naive_bayes_classifier = MultinomialNB()\n",
    "naive_bayes_classifier.fit(X_train_tfidf, y_train)\n",
    "\n",
    "# Making predictions on the testing set\n",
    "y_pred = naive_bayes_classifier.predict(X_test_tfidf)\n",
    "\n",
    "# Evaluating the model performance\n",
    "accuracy = accuracy_score(y_test, y_pred)\n",
    "print(f\"Accuracy: {accuracy:.2f}\")\n",
    "\n",
    "# Print classification report\n",
    "print(classification_report(y_test, y_pred))\n",
    "\n",
    "\n"
   ]
  },
  {
   "cell_type": "markdown",
   "id": "179c176e",
   "metadata": {},
   "source": [
    "The initial naive bayes model performed quite well with an accuracy of 87% on the test data set. The precision and recall values are also quite good."
   ]
  },
  {
   "cell_type": "code",
   "execution_count": null,
   "id": "5a4221e7",
   "metadata": {},
   "outputs": [],
   "source": [
    "# Testing the data on new data\n",
    "new_review = \"This movie is bad! I hated it.\"\n",
    "\n",
    "# Preprocess the new review and convert it to TF-IDF representation\n",
    "new_review_tfidf = tfidf_vectorizer.transform([new_review])\n",
    "\n",
    "# Predict the sentiment of the new review\n",
    "predicted_sentiment = naive_bayes_classifier.predict(new_review_tfidf)\n",
    "\n",
    "print(f\"Predicted Sentiment: {predicted_sentiment[0]}\")"
   ]
  }
 ],
 "metadata": {
  "kernelspec": {
   "display_name": "Python 3 (ipykernel)",
   "language": "python",
   "name": "python3"
  },
  "language_info": {
   "codemirror_mode": {
    "name": "ipython",
    "version": 3
   },
   "file_extension": ".py",
   "mimetype": "text/x-python",
   "name": "python",
   "nbconvert_exporter": "python",
   "pygments_lexer": "ipython3",
   "version": "3.9.9"
  }
 },
 "nbformat": 4,
 "nbformat_minor": 5
}
